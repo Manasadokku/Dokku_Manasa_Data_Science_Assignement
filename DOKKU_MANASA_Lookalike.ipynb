{
 "cells": [
  {
   "cell_type": "code",
   "execution_count": 1,
   "id": "ecbb4c29",
   "metadata": {},
   "outputs": [],
   "source": [
    "import pandas as pd\n",
    "from sklearn.metrics.pairwise import cosine_similarity\n",
    "from sklearn.preprocessing import StandardScaler"
   ]
  },
  {
   "cell_type": "code",
   "execution_count": 2,
   "id": "824802b7",
   "metadata": {},
   "outputs": [],
   "source": [
    "customers = pd.read_csv('Customers.csv')\n",
    "transactions = pd.read_csv('Transactions.csv')"
   ]
  },
  {
   "cell_type": "code",
   "execution_count": 3,
   "id": "bcba0c4b",
   "metadata": {},
   "outputs": [],
   "source": [
    "# Create a total spending feature\n",
    "total_spending = transactions.groupby('CustomerID')['TotalValue'].sum().reset_index()\n",
    "total_spending.rename(columns={'TotalValue': 'TotalSpending'}, inplace=True)\n",
    "\n",
    "# Count the number of transactions per customer\n",
    "transaction_counts = transactions.groupby('CustomerID')['TransactionID'].count().reset_index()\n",
    "transaction_counts.rename(columns={'TransactionID': 'TransactionCount'}, inplace=True)"
   ]
  },
  {
   "cell_type": "code",
   "execution_count": 18,
   "id": "a3254fe1",
   "metadata": {},
   "outputs": [],
   "source": [
    "# Merge datasets\n",
    "customer_data = customers.merge(total_spending, on='CustomerID', how='left') \\\n",
    "                    .merge(transaction_counts, on='CustomerID', how='left')\n",
    "\n",
    "# Fill NaN values with 0 for customers with no transactions\n",
    "customer_data['TotalSpending'].fillna(0, inplace=True)\n",
    "customer_data['TransactionCount'].fillna(0, inplace=True)"
   ]
  },
  {
   "cell_type": "code",
   "execution_count": 19,
   "id": "bdb6f91e",
   "metadata": {},
   "outputs": [],
   "source": [
    "# Create additional features\n",
    "customer_data['AverageTransactionValue'] = customer_data['TotalSpending'] / customer_data['TransactionCount']\n",
    "customer_data['AverageTransactionValue'].fillna(0, inplace=True)  # Handle division by zero"
   ]
  },
  {
   "cell_type": "code",
   "execution_count": 20,
   "id": "a52e0d65",
   "metadata": {},
   "outputs": [],
   "source": [
    "# Select relevant features for similarity calculation\n",
    "features = customer_data[['TotalSpending', 'TransactionCount', 'AverageTransactionValue']]"
   ]
  },
  {
   "cell_type": "code",
   "execution_count": 21,
   "id": "4178660b",
   "metadata": {},
   "outputs": [],
   "source": [
    "# Standardize the features\n",
    "scaler = StandardScaler()\n",
    "features_scaled = scaler.fit_transform(features)"
   ]
  },
  {
   "cell_type": "code",
   "execution_count": 22,
   "id": "bf2cb10b",
   "metadata": {},
   "outputs": [],
   "source": [
    "# Calculate cosine similarity\n",
    "similarity_matrix = cosine_similarity(features_scaled)\n",
    "\n",
    "# Create a DataFrame for similarity scores\n",
    "similarity_df = pd.DataFrame(similarity_matrix, index=customer_data['CustomerID'], columns=customer_data['CustomerID'])"
   ]
  },
  {
   "cell_type": "code",
   "execution_count": 23,
   "id": "166a1b93",
   "metadata": {},
   "outputs": [],
   "source": [
    "# Function to get top 3 lookalikes for a given customer\n",
    "def get_top_lookalikes(customer_id, n=3):\n",
    "    similar_scores = similarity_df[customer_id].sort_values(ascending=False)\n",
    "    top_lookalikes = similar_scores.iloc[1:n+1]  # Exclude the customer itself\n",
    "    return top_lookalikes"
   ]
  },
  {
   "cell_type": "code",
   "execution_count": 24,
   "id": "ee4da05c",
   "metadata": {},
   "outputs": [],
   "source": [
    "# Initialize a dictionary to store the results\n",
    "lookalike_results = {}\n",
    "\n",
    "# Get lookalikes for the first 20 customers (C0001 to C0020)\n",
    "for customer_id in customer_data['CustomerID'].head(20):\n",
    "    lookalikes = get_top_lookalikes(customer_id)\n",
    "    # Store the lookalikes in the required format\n",
    "    lookalike_results[customer_id] = [(lookalike_id, score) for lookalike_id, score in zip(lookalikes.index, lookalikes.values)]"
   ]
  },
  {
   "cell_type": "code",
   "execution_count": 25,
   "id": "6332d2e6",
   "metadata": {},
   "outputs": [],
   "source": [
    "# Prepare the output in the required format\n",
    "output_data = []\n",
    "for cust_id, lookalikes in lookalike_results.items():\n",
    "    output_data.append((cust_id, lookalikes))  # (CustomerID, List of (LookalikeID, Score))"
   ]
  },
  {
   "cell_type": "code",
   "execution_count": 26,
   "id": "39ef47c4",
   "metadata": {},
   "outputs": [],
   "source": [
    "# Convert to DataFrame for saving\n",
    "lookalike_df = pd.DataFrame(output_data, columns=['CustomerID', 'Lookalikes'])"
   ]
  },
  {
   "cell_type": "code",
   "execution_count": 27,
   "id": "f1bff561",
   "metadata": {},
   "outputs": [],
   "source": [
    "# Save to CSV\n",
    "lookalike_df.to_csv('DOKKU_MANASA_Lookalike.csv', index=False)"
   ]
  },
  {
   "cell_type": "code",
   "execution_count": 28,
   "id": "d8849e68",
   "metadata": {},
   "outputs": [],
   "source": [
    "lookalike = pd.read_csv('DOKKU_MANASA_Lookalike.csv')"
   ]
  },
  {
   "cell_type": "code",
   "execution_count": 29,
   "id": "7b779f5e",
   "metadata": {},
   "outputs": [
    {
     "data": {
      "text/html": [
       "<div>\n",
       "<style scoped>\n",
       "    .dataframe tbody tr th:only-of-type {\n",
       "        vertical-align: middle;\n",
       "    }\n",
       "\n",
       "    .dataframe tbody tr th {\n",
       "        vertical-align: top;\n",
       "    }\n",
       "\n",
       "    .dataframe thead th {\n",
       "        text-align: right;\n",
       "    }\n",
       "</style>\n",
       "<table border=\"1\" class=\"dataframe\">\n",
       "  <thead>\n",
       "    <tr style=\"text-align: right;\">\n",
       "      <th></th>\n",
       "      <th>CustomerID</th>\n",
       "      <th>Lookalikes</th>\n",
       "    </tr>\n",
       "  </thead>\n",
       "  <tbody>\n",
       "    <tr>\n",
       "      <th>0</th>\n",
       "      <td>C0001</td>\n",
       "      <td>[('C0137', 0.999217832279607), ('C0152', 0.992...</td>\n",
       "    </tr>\n",
       "    <tr>\n",
       "      <th>1</th>\n",
       "      <td>C0002</td>\n",
       "      <td>[('C0029', 0.9996304690463752), ('C0199', 0.99...</td>\n",
       "    </tr>\n",
       "    <tr>\n",
       "      <th>2</th>\n",
       "      <td>C0003</td>\n",
       "      <td>[('C0005', 0.9999316372091099), ('C0178', 0.99...</td>\n",
       "    </tr>\n",
       "    <tr>\n",
       "      <th>3</th>\n",
       "      <td>C0004</td>\n",
       "      <td>[('C0067', 0.9998110253764196), ('C0021', 0.99...</td>\n",
       "    </tr>\n",
       "    <tr>\n",
       "      <th>4</th>\n",
       "      <td>C0005</td>\n",
       "      <td>[('C0003', 0.9999316372091099), ('C0073', 0.99...</td>\n",
       "    </tr>\n",
       "    <tr>\n",
       "      <th>5</th>\n",
       "      <td>C0006</td>\n",
       "      <td>[('C0079', 0.9999839458199934), ('C0117', 0.99...</td>\n",
       "    </tr>\n",
       "    <tr>\n",
       "      <th>6</th>\n",
       "      <td>C0007</td>\n",
       "      <td>[('C0085', 0.9998021851965131), ('C0140', 0.99...</td>\n",
       "    </tr>\n",
       "    <tr>\n",
       "      <th>7</th>\n",
       "      <td>C0008</td>\n",
       "      <td>[('C0084', 0.9955933187236518), ('C0194', 0.99...</td>\n",
       "    </tr>\n",
       "    <tr>\n",
       "      <th>8</th>\n",
       "      <td>C0009</td>\n",
       "      <td>[('C0077', 0.9998301326192339), ('C0032', 0.99...</td>\n",
       "    </tr>\n",
       "    <tr>\n",
       "      <th>9</th>\n",
       "      <td>C0010</td>\n",
       "      <td>[('C0029', 0.9997659902062711), ('C0025', 0.99...</td>\n",
       "    </tr>\n",
       "    <tr>\n",
       "      <th>10</th>\n",
       "      <td>C0011</td>\n",
       "      <td>[('C0183', 0.9999186843704124), ('C0048', 0.99...</td>\n",
       "    </tr>\n",
       "    <tr>\n",
       "      <th>11</th>\n",
       "      <td>C0012</td>\n",
       "      <td>[('C0136', 0.9996801401323758), ('C0102', 0.99...</td>\n",
       "    </tr>\n",
       "    <tr>\n",
       "      <th>12</th>\n",
       "      <td>C0013</td>\n",
       "      <td>[('C0045', 0.9999850541873876), ('C0143', 0.99...</td>\n",
       "    </tr>\n",
       "    <tr>\n",
       "      <th>13</th>\n",
       "      <td>C0014</td>\n",
       "      <td>[('C0128', 0.998423391668415), ('C0058', 0.995...</td>\n",
       "    </tr>\n",
       "    <tr>\n",
       "      <th>14</th>\n",
       "      <td>C0015</td>\n",
       "      <td>[('C0132', 0.999650757808837), ('C0036', 0.999...</td>\n",
       "    </tr>\n",
       "    <tr>\n",
       "      <th>15</th>\n",
       "      <td>C0016</td>\n",
       "      <td>[('C0048', 0.999998588493038), ('C0183', 0.999...</td>\n",
       "    </tr>\n",
       "    <tr>\n",
       "      <th>16</th>\n",
       "      <td>C0017</td>\n",
       "      <td>[('C0162', 0.9997423724063489), ('C0113', 0.99...</td>\n",
       "    </tr>\n",
       "    <tr>\n",
       "      <th>17</th>\n",
       "      <td>C0018</td>\n",
       "      <td>[('C0200', 0.9999999849151834), ('C0170', 0.99...</td>\n",
       "    </tr>\n",
       "    <tr>\n",
       "      <th>18</th>\n",
       "      <td>C0019</td>\n",
       "      <td>[('C0172', 0.9999952709267993), ('C0116', 0.98...</td>\n",
       "    </tr>\n",
       "    <tr>\n",
       "      <th>19</th>\n",
       "      <td>C0020</td>\n",
       "      <td>[('C0110', 0.999505686061345), ('C0042', 0.996...</td>\n",
       "    </tr>\n",
       "  </tbody>\n",
       "</table>\n",
       "</div>"
      ],
      "text/plain": [
       "   CustomerID                                         Lookalikes\n",
       "0       C0001  [('C0137', 0.999217832279607), ('C0152', 0.992...\n",
       "1       C0002  [('C0029', 0.9996304690463752), ('C0199', 0.99...\n",
       "2       C0003  [('C0005', 0.9999316372091099), ('C0178', 0.99...\n",
       "3       C0004  [('C0067', 0.9998110253764196), ('C0021', 0.99...\n",
       "4       C0005  [('C0003', 0.9999316372091099), ('C0073', 0.99...\n",
       "5       C0006  [('C0079', 0.9999839458199934), ('C0117', 0.99...\n",
       "6       C0007  [('C0085', 0.9998021851965131), ('C0140', 0.99...\n",
       "7       C0008  [('C0084', 0.9955933187236518), ('C0194', 0.99...\n",
       "8       C0009  [('C0077', 0.9998301326192339), ('C0032', 0.99...\n",
       "9       C0010  [('C0029', 0.9997659902062711), ('C0025', 0.99...\n",
       "10      C0011  [('C0183', 0.9999186843704124), ('C0048', 0.99...\n",
       "11      C0012  [('C0136', 0.9996801401323758), ('C0102', 0.99...\n",
       "12      C0013  [('C0045', 0.9999850541873876), ('C0143', 0.99...\n",
       "13      C0014  [('C0128', 0.998423391668415), ('C0058', 0.995...\n",
       "14      C0015  [('C0132', 0.999650757808837), ('C0036', 0.999...\n",
       "15      C0016  [('C0048', 0.999998588493038), ('C0183', 0.999...\n",
       "16      C0017  [('C0162', 0.9997423724063489), ('C0113', 0.99...\n",
       "17      C0018  [('C0200', 0.9999999849151834), ('C0170', 0.99...\n",
       "18      C0019  [('C0172', 0.9999952709267993), ('C0116', 0.98...\n",
       "19      C0020  [('C0110', 0.999505686061345), ('C0042', 0.996..."
      ]
     },
     "execution_count": 29,
     "metadata": {},
     "output_type": "execute_result"
    }
   ],
   "source": [
    "lookalike.head(20)"
   ]
  },
  {
   "cell_type": "code",
   "execution_count": null,
   "id": "e4a105e2",
   "metadata": {},
   "outputs": [],
   "source": []
  }
 ],
 "metadata": {
  "kernelspec": {
   "display_name": "Python 3 (ipykernel)",
   "language": "python",
   "name": "python3"
  },
  "language_info": {
   "codemirror_mode": {
    "name": "ipython",
    "version": 3
   },
   "file_extension": ".py",
   "mimetype": "text/x-python",
   "name": "python",
   "nbconvert_exporter": "python",
   "pygments_lexer": "ipython3",
   "version": "3.9.13"
  }
 },
 "nbformat": 4,
 "nbformat_minor": 5
}
